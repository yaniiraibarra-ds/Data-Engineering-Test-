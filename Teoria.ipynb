{
  "nbformat": 4,
  "nbformat_minor": 0,
  "metadata": {
    "colab": {
      "provenance": [],
      "authorship_tag": "ABX9TyNsPmCSYpMXfHDuJlcWUQle"
    },
    "kernelspec": {
      "name": "python3",
      "display_name": "Python 3"
    },
    "language_info": {
      "name": "python"
    }
  },
  "cells": [
    {
      "cell_type": "markdown",
      "source": [
        "# Teoría"
      ],
      "metadata": {
        "id": "1Dqv4xLC_0Tk"
      }
    },
    {
      "cell_type": "markdown",
      "source": [
        "# 1️. ¿Cuál de las siguientes plataformas de Microsoft es una solución de análisis de big data en la nube?  \n",
        "\n",
        "- a) Azure SQL Database  \n",
        "- b) Azure Synapse Analytics  \n",
        "- c) Azure Data Factory  \n",
        "- d) Azure Active Directory  \n",
        "\n",
        "\n",
        "\n",
        "***Respuesta: b) Azure Synapse Analytics***"
      ],
      "metadata": {
        "id": "VGe_Ugdl_YWM"
      }
    },
    {
      "cell_type": "markdown",
      "source": [
        "# 2. En el contexto de Azure Data Factory, ¿cuál de las siguientes actividades se utiliza para transformar y limpiar datos en un flujo de trabajo?  \n",
        "\n",
        "- a) HDInsight Spark  \n",
        "- b) Azure Databricks  \n",
        "- c) Data Flow  \n",
        "- d) Azure Stream Analytics  \n",
        "\n",
        "***Respuesta: c) Data Flow***"
      ],
      "metadata": {
        "id": "nQzoNJ2z_j4H"
      }
    },
    {
      "cell_type": "markdown",
      "source": [
        "# 3. ¿Cuál de las siguientes opciones es una característica clave de Apache Spark que permite procesar datos en memoria para un rendimiento más rápido?  \n",
        "\n",
        "- a) Apache Hadoop  \n",
        "- b) Apache Flink  \n",
        "- c) Spark Streaming  \n",
        "- d) Resilient Distributed Dataset (RDD)  \n",
        "\n",
        "***Respuesta: d) Resilient Distributed Dataset (RDD)***"
      ],
      "metadata": {
        "id": "uSw8CO-hAPdl"
      }
    },
    {
      "cell_type": "markdown",
      "source": [
        "# 4. En el contexto de Pandas, ¿cuál de las siguientes operaciones se utiliza para eliminar filas duplicadas de un DataFrame?  \n",
        "\n",
        "- a) df.groupby()  \n",
        "- b) df.drop_duplicates()  \n",
        "- c) df.fillna()  \n",
        "- d) df.pivot_table()  \n",
        "\n",
        "***Respuesta: b) df.drop_duplicates()***"
      ],
      "metadata": {
        "id": "jeb03UwDAb8u"
      }
    },
    {
      "cell_type": "markdown",
      "source": [
        "# 5. ¿Qué lenguaje de programación se utiliza comúnmente en Azure Databricks para el procesamiento de datos y análisis?  \n",
        "\n",
        "- a) R  \n",
        "- b) Java  \n",
        "- c) Scala  \n",
        "- d) C#  \n",
        "\n",
        "***Respuesta: c) Scala***"
      ],
      "metadata": {
        "id": "UcFG9OKDBSfG"
      }
    }
  ]
}